{
  "nbformat": 4,
  "nbformat_minor": 0,
  "metadata": {
    "colab": {
      "name": "HandsOn14_Iykra.ipynb",
      "provenance": [],
      "authorship_tag": "ABX9TyM1RIw/WPNTQR+qUiQDzftA",
      "include_colab_link": true
    },
    "kernelspec": {
      "name": "python3",
      "display_name": "Python 3"
    }
  },
  "cells": [
    {
      "cell_type": "markdown",
      "metadata": {
        "id": "view-in-github",
        "colab_type": "text"
      },
      "source": [
        "<a href=\"https://colab.research.google.com/github/ronnyfahrudin/CEB-G20/blob/master/HandsOn14_Iykra.ipynb\" target=\"_parent\"><img src=\"https://colab.research.google.com/assets/colab-badge.svg\" alt=\"Open In Colab\"/></a>"
      ]
    },
    {
      "cell_type": "code",
      "metadata": {
        "id": "evnVk-6Fu1jX",
        "colab_type": "code",
        "colab": {
          "base_uri": "https://localhost:8080/",
          "height": 121
        },
        "outputId": "c50db596-4bef-41d7-8b30-416f05836397"
      },
      "source": [
        "from google.colab import drive\n",
        "drive.mount('/content/drive')"
      ],
      "execution_count": 1,
      "outputs": [
        {
          "output_type": "stream",
          "text": [
            "Go to this URL in a browser: https://accounts.google.com/o/oauth2/auth?client_id=947318989803-6bn6qk8qdgf4n4g3pfee6491hc0brc4i.apps.googleusercontent.com&redirect_uri=urn%3aietf%3awg%3aoauth%3a2.0%3aoob&scope=email%20https%3a%2f%2fwww.googleapis.com%2fauth%2fdocs.test%20https%3a%2f%2fwww.googleapis.com%2fauth%2fdrive%20https%3a%2f%2fwww.googleapis.com%2fauth%2fdrive.photos.readonly%20https%3a%2f%2fwww.googleapis.com%2fauth%2fpeopleapi.readonly&response_type=code\n",
            "\n",
            "Enter your authorization code:\n",
            "··········\n",
            "Mounted at /content/drive\n"
          ],
          "name": "stdout"
        }
      ]
    },
    {
      "cell_type": "code",
      "metadata": {
        "id": "4xAR3Ag1vEMi",
        "colab_type": "code",
        "colab": {
          "base_uri": "https://localhost:8080/",
          "height": 306
        },
        "outputId": "d3dfdaa1-45ed-45f2-8c4e-9222612ca0b5"
      },
      "source": [
        "!pip install instaloader\n",
        "!pip install emoji\n"
      ],
      "execution_count": 29,
      "outputs": [
        {
          "output_type": "stream",
          "text": [
            "Requirement already satisfied: instaloader in /usr/local/lib/python3.6/dist-packages (4.5)\n",
            "Requirement already satisfied: requests>=2.4 in /usr/local/lib/python3.6/dist-packages (from instaloader) (2.23.0)\n",
            "Requirement already satisfied: urllib3!=1.25.0,!=1.25.1,<1.26,>=1.21.1 in /usr/local/lib/python3.6/dist-packages (from requests>=2.4->instaloader) (1.24.3)\n",
            "Requirement already satisfied: certifi>=2017.4.17 in /usr/local/lib/python3.6/dist-packages (from requests>=2.4->instaloader) (2020.6.20)\n",
            "Requirement already satisfied: chardet<4,>=3.0.2 in /usr/local/lib/python3.6/dist-packages (from requests>=2.4->instaloader) (3.0.4)\n",
            "Requirement already satisfied: idna<3,>=2.5 in /usr/local/lib/python3.6/dist-packages (from requests>=2.4->instaloader) (2.10)\n",
            "Collecting emoji\n",
            "\u001b[?25l  Downloading https://files.pythonhosted.org/packages/ff/1c/1f1457fe52d0b30cbeebfd578483cedb3e3619108d2d5a21380dfecf8ffd/emoji-0.6.0.tar.gz (51kB)\n",
            "\u001b[K     |████████████████████████████████| 51kB 1.6MB/s \n",
            "\u001b[?25hBuilding wheels for collected packages: emoji\n",
            "  Building wheel for emoji (setup.py) ... \u001b[?25l\u001b[?25hdone\n",
            "  Created wheel for emoji: filename=emoji-0.6.0-cp36-none-any.whl size=49714 sha256=88a0e1e1030708e240b75df87dac368c86fe92db20d6d30d18dd7de3d121cfb6\n",
            "  Stored in directory: /root/.cache/pip/wheels/46/2c/8b/9dcf5216ca68e14e0320e283692dce8ae321cdc01e73e17796\n",
            "Successfully built emoji\n",
            "Installing collected packages: emoji\n",
            "Successfully installed emoji-0.6.0\n"
          ],
          "name": "stdout"
        }
      ]
    },
    {
      "cell_type": "code",
      "metadata": {
        "id": "KHFDL_bDvhAR",
        "colab_type": "code",
        "colab": {}
      },
      "source": [
        "import instaloader\n",
        "import emoji\n",
        "import pandas as pd\n",
        "import numpy as np\n",
        "import datetime as dt"
      ],
      "execution_count": 30,
      "outputs": []
    },
    {
      "cell_type": "code",
      "metadata": {
        "id": "ghmPK-2pvz05",
        "colab_type": "code",
        "colab": {}
      },
      "source": [
        "instagram = instaloader.Instaloader()\n",
        "iykra = instaloader.Profile.from_username(instagram.context, 'iykra_id')"
      ],
      "execution_count": 5,
      "outputs": []
    },
    {
      "cell_type": "code",
      "metadata": {
        "id": "6w2lOVpYwQJm",
        "colab_type": "code",
        "colab": {}
      },
      "source": [
        "day_name = ['Senin', 'Selasa', 'Rabu', 'Kamis', 'Jumat', 'Sabtu', 'Minggu']\n",
        "data = []\n",
        "for post in iykra.get_posts():\n",
        "  date = post.date_local\n",
        "  if date > dt.datetime(2019,6,30):\n",
        "    caption = post.caption\n",
        "    tipe = post.typename\n",
        "    url = \"www.instagram.com/p/\"+post.shortcode\n",
        "    likes = post.likes\n",
        "    comments = post.comments\n",
        "    engagements = (0.75*likes) + comments\n",
        "    num_of_hashtag = len([x for x in caption.split() if x.startswith('#')])\n",
        "    num_of_emojis = len([x for x in caption.split() if x in emoji.UNICODE_EMOJI])\n",
        "    hari = date.weekday()\n",
        "    hari = day_name[hari]\n",
        "    jam = date.hour\n",
        "    date = date.strftime(\"%Y-%m-%d %H:%M:%S\")\n",
        "    data.append([data, hari, jam, url, caption, tipe, num_of_hashtag, num_of_emojis, likes, comments, engagements])\n",
        "  else:\n",
        "    pass\n",
        "data_ig = pd.DataFrame(data, columns = [\"data\", \"hari\", \"jam\", \"url\", \n",
        "                        \"caption\", \"tipe\", \"num_of_hashtags\", \"num_of_emojis\", \"likes\", \n",
        "                        \"comments\", \"engagements\"])"
      ],
      "execution_count": 38,
      "outputs": []
    },
    {
      "cell_type": "code",
      "metadata": {
        "id": "YZy7FP7ZwZu3",
        "colab_type": "code",
        "colab": {}
      },
      "source": [
        "data_ig.to_excel(\"/content/drive/My Drive/data_ig.xlsx\", index = False)"
      ],
      "execution_count": 40,
      "outputs": []
    },
    {
      "cell_type": "code",
      "metadata": {
        "id": "Z8ZOXsPu0t8e",
        "colab_type": "code",
        "colab": {}
      },
      "source": [
        ""
      ],
      "execution_count": null,
      "outputs": []
    },
    {
      "cell_type": "code",
      "metadata": {
        "id": "GnoqCDG-0uUG",
        "colab_type": "code",
        "colab": {}
      },
      "source": [
        ""
      ],
      "execution_count": null,
      "outputs": []
    }
  ]
}